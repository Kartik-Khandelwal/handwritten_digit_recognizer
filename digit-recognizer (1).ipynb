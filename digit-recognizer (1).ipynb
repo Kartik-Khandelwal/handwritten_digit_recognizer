{
 "cells": [
  {
   "cell_type": "code",
   "execution_count": 1,
   "metadata": {
    "_cell_guid": "b1076dfc-b9ad-4769-8c92-a6c4dae69d19",
    "_uuid": "8f2839f25d086af736a60e9eeb907d3b93b6e0e5",
    "execution": {
     "iopub.execute_input": "2021-04-10T12:35:42.507150Z",
     "iopub.status.busy": "2021-04-10T12:35:42.506611Z",
     "iopub.status.idle": "2021-04-10T12:35:42.513633Z",
     "shell.execute_reply": "2021-04-10T12:35:42.512952Z"
    },
    "papermill": {
     "duration": 0.024886,
     "end_time": "2021-04-10T12:35:42.513838",
     "exception": false,
     "start_time": "2021-04-10T12:35:42.488952",
     "status": "completed"
    },
    "tags": []
   },
   "outputs": [
    {
     "name": "stdout",
     "output_type": "stream",
     "text": [
      "/kaggle/input/digit-recognizer/sample_submission.csv\n",
      "/kaggle/input/digit-recognizer/train.csv\n",
      "/kaggle/input/digit-recognizer/test.csv\n"
     ]
    }
   ],
   "source": [
    "# This Python 3 environment comes with many helpful analytics libraries installed\n",
    "# It is defined by the kaggle/python Docker image: https://github.com/kaggle/docker-python\n",
    "# For example, here's several helpful packages to load\n",
    "\n",
    "import numpy as np # linear algebra\n",
    "import pandas as pd # data processing, CSV file I/O (e.g. pd.read_csv)\n",
    "\n",
    "# Input data files are available in the read-only \"../input/\" directory\n",
    "# For example, running this (by clicking run or pressing Shift+Enter) will list all files under the input directory\n",
    "\n",
    "import os\n",
    "for dirname, _, filenames in os.walk('/kaggle/input'):\n",
    "    for filename in filenames:\n",
    "        print(os.path.join(dirname, filename))\n",
    "\n",
    "# You can write up to 20GB to the current directory (/kaggle/working/) that gets preserved as output when you create a version using \"Save & Run All\" \n",
    "# You can also write temporary files to /kaggle/temp/, but they won't be saved outside of the current session"
   ]
  },
  {
   "cell_type": "code",
   "execution_count": 2,
   "metadata": {
    "execution": {
     "iopub.execute_input": "2021-04-10T12:35:42.545034Z",
     "iopub.status.busy": "2021-04-10T12:35:42.544514Z",
     "iopub.status.idle": "2021-04-10T12:35:47.172817Z",
     "shell.execute_reply": "2021-04-10T12:35:47.171653Z"
    },
    "papermill": {
     "duration": 4.645653,
     "end_time": "2021-04-10T12:35:47.172979",
     "exception": false,
     "start_time": "2021-04-10T12:35:42.527326",
     "status": "completed"
    },
    "tags": []
   },
   "outputs": [],
   "source": [
    "train_data = pd.read_csv('../input/digit-recognizer/train.csv')\n",
    "test_data = pd.read_csv('../input/digit-recognizer/test.csv')"
   ]
  },
  {
   "cell_type": "code",
   "execution_count": 3,
   "metadata": {
    "execution": {
     "iopub.execute_input": "2021-04-10T12:35:47.204924Z",
     "iopub.status.busy": "2021-04-10T12:35:47.204279Z",
     "iopub.status.idle": "2021-04-10T12:35:47.220838Z",
     "shell.execute_reply": "2021-04-10T12:35:47.221242Z"
    },
    "papermill": {
     "duration": 0.035682,
     "end_time": "2021-04-10T12:35:47.221368",
     "exception": false,
     "start_time": "2021-04-10T12:35:47.185686",
     "status": "completed"
    },
    "tags": []
   },
   "outputs": [
    {
     "data": {
      "text/plain": [
       "<bound method NDFrame.head of        label  pixel0  pixel1  pixel2  pixel3  pixel4  pixel5  pixel6  pixel7  \\\n",
       "0          1       0       0       0       0       0       0       0       0   \n",
       "1          0       0       0       0       0       0       0       0       0   \n",
       "2          1       0       0       0       0       0       0       0       0   \n",
       "3          4       0       0       0       0       0       0       0       0   \n",
       "4          0       0       0       0       0       0       0       0       0   \n",
       "...      ...     ...     ...     ...     ...     ...     ...     ...     ...   \n",
       "41995      0       0       0       0       0       0       0       0       0   \n",
       "41996      1       0       0       0       0       0       0       0       0   \n",
       "41997      7       0       0       0       0       0       0       0       0   \n",
       "41998      6       0       0       0       0       0       0       0       0   \n",
       "41999      9       0       0       0       0       0       0       0       0   \n",
       "\n",
       "       pixel8  ...  pixel774  pixel775  pixel776  pixel777  pixel778  \\\n",
       "0           0  ...         0         0         0         0         0   \n",
       "1           0  ...         0         0         0         0         0   \n",
       "2           0  ...         0         0         0         0         0   \n",
       "3           0  ...         0         0         0         0         0   \n",
       "4           0  ...         0         0         0         0         0   \n",
       "...       ...  ...       ...       ...       ...       ...       ...   \n",
       "41995       0  ...         0         0         0         0         0   \n",
       "41996       0  ...         0         0         0         0         0   \n",
       "41997       0  ...         0         0         0         0         0   \n",
       "41998       0  ...         0         0         0         0         0   \n",
       "41999       0  ...         0         0         0         0         0   \n",
       "\n",
       "       pixel779  pixel780  pixel781  pixel782  pixel783  \n",
       "0             0         0         0         0         0  \n",
       "1             0         0         0         0         0  \n",
       "2             0         0         0         0         0  \n",
       "3             0         0         0         0         0  \n",
       "4             0         0         0         0         0  \n",
       "...         ...       ...       ...       ...       ...  \n",
       "41995         0         0         0         0         0  \n",
       "41996         0         0         0         0         0  \n",
       "41997         0         0         0         0         0  \n",
       "41998         0         0         0         0         0  \n",
       "41999         0         0         0         0         0  \n",
       "\n",
       "[42000 rows x 785 columns]>"
      ]
     },
     "execution_count": 3,
     "metadata": {},
     "output_type": "execute_result"
    }
   ],
   "source": [
    "train_data.head"
   ]
  },
  {
   "cell_type": "code",
   "execution_count": 4,
   "metadata": {
    "execution": {
     "iopub.execute_input": "2021-04-10T12:35:47.252009Z",
     "iopub.status.busy": "2021-04-10T12:35:47.251078Z",
     "iopub.status.idle": "2021-04-10T12:35:47.254247Z",
     "shell.execute_reply": "2021-04-10T12:35:47.254647Z"
    },
    "papermill": {
     "duration": 0.02069,
     "end_time": "2021-04-10T12:35:47.254762",
     "exception": false,
     "start_time": "2021-04-10T12:35:47.234072",
     "status": "completed"
    },
    "tags": []
   },
   "outputs": [
    {
     "data": {
      "text/plain": [
       "((42000, 785), (28000, 784))"
      ]
     },
     "execution_count": 4,
     "metadata": {},
     "output_type": "execute_result"
    }
   ],
   "source": [
    "train_data.shape, test_data.shape"
   ]
  },
  {
   "cell_type": "code",
   "execution_count": 5,
   "metadata": {
    "execution": {
     "iopub.execute_input": "2021-04-10T12:35:47.360937Z",
     "iopub.status.busy": "2021-04-10T12:35:47.360161Z",
     "iopub.status.idle": "2021-04-10T12:35:47.363475Z",
     "shell.execute_reply": "2021-04-10T12:35:47.363049Z"
    },
    "papermill": {
     "duration": 0.095945,
     "end_time": "2021-04-10T12:35:47.363612",
     "exception": false,
     "start_time": "2021-04-10T12:35:47.267667",
     "status": "completed"
    },
    "tags": []
   },
   "outputs": [],
   "source": [
    "y = train_data['label']\n",
    "x = train_data.drop(['label'], axis=1, inplace=True)"
   ]
  },
  {
   "cell_type": "code",
   "execution_count": 6,
   "metadata": {
    "execution": {
     "iopub.execute_input": "2021-04-10T12:35:47.396584Z",
     "iopub.status.busy": "2021-04-10T12:35:47.396003Z",
     "iopub.status.idle": "2021-04-10T12:35:47.399076Z",
     "shell.execute_reply": "2021-04-10T12:35:47.399455Z"
    },
    "papermill": {
     "duration": 0.022499,
     "end_time": "2021-04-10T12:35:47.399597",
     "exception": false,
     "start_time": "2021-04-10T12:35:47.377098",
     "status": "completed"
    },
    "tags": []
   },
   "outputs": [
    {
     "data": {
      "text/plain": [
       "((42000, 28, 28, 1), (28000, 28, 28, 1))"
      ]
     },
     "execution_count": 6,
     "metadata": {},
     "output_type": "execute_result"
    }
   ],
   "source": [
    "train_data = train_data.values.reshape(-1,28,28,1)\n",
    "test_data = test_data.values.reshape(-1,28,28,1)\n",
    "train_data.shape, test_data.shape"
   ]
  },
  {
   "cell_type": "code",
   "execution_count": 7,
   "metadata": {
    "execution": {
     "iopub.execute_input": "2021-04-10T12:35:47.445442Z",
     "iopub.status.busy": "2021-04-10T12:35:47.444067Z",
     "iopub.status.idle": "2021-04-10T12:35:47.597662Z",
     "shell.execute_reply": "2021-04-10T12:35:47.598631Z"
    },
    "papermill": {
     "duration": 0.185897,
     "end_time": "2021-04-10T12:35:47.598843",
     "exception": false,
     "start_time": "2021-04-10T12:35:47.412946",
     "status": "completed"
    },
    "tags": []
   },
   "outputs": [
    {
     "data": {
      "text/plain": [
       "<matplotlib.image.AxesImage at 0x7fa08cb40690>"
      ]
     },
     "execution_count": 7,
     "metadata": {},
     "output_type": "execute_result"
    },
    {
     "data": {
      "image/png": "[encoded data removed]",
      "text/plain": [
       "<Figure size 432x288 with 1 Axes>"
      ]
     },
     "metadata": {
      "needs_background": "light"
     },
     "output_type": "display_data"
    }
   ],
   "source": [
    "import matplotlib.pyplot as plt\n",
    "plt.imshow(train_data[1])"
   ]
  },
  {
   "cell_type": "code",
   "execution_count": 8,
   "metadata": {
    "execution": {
     "iopub.execute_input": "2021-04-10T12:35:47.682501Z",
     "iopub.status.busy": "2021-04-10T12:35:47.677269Z",
     "iopub.status.idle": "2021-04-10T12:35:48.692064Z",
     "shell.execute_reply": "2021-04-10T12:35:48.692984Z"
    },
    "papermill": {
     "duration": 1.067555,
     "end_time": "2021-04-10T12:35:48.693171",
     "exception": false,
     "start_time": "2021-04-10T12:35:47.625616",
     "status": "completed"
    },
    "tags": []
   },
   "outputs": [
    {
     "data": {
      "image/png": "[encoded data removed]",
      "text/plain": [
       "<Figure size 1440x1440 with 10 Axes>"
      ]
     },
     "metadata": {
      "needs_background": "light"
     },
     "output_type": "display_data"
    }
   ],
   "source": [
    "plt.figure(figsize=(20,20))\n",
    "for i in range(10):\n",
    "    plt.subplot(2, 10, i+1)\n",
    "    plt.imshow(train_data[i])"
   ]
  },
  {
   "cell_type": "code",
   "execution_count": 9,
   "metadata": {
    "execution": {
     "iopub.execute_input": "2021-04-10T12:35:48.752546Z",
     "iopub.status.busy": "2021-04-10T12:35:48.751464Z",
     "iopub.status.idle": "2021-04-10T12:35:48.912338Z",
     "shell.execute_reply": "2021-04-10T12:35:48.911829Z"
    },
    "papermill": {
     "duration": 0.191411,
     "end_time": "2021-04-10T12:35:48.912464",
     "exception": false,
     "start_time": "2021-04-10T12:35:48.721053",
     "status": "completed"
    },
    "tags": []
   },
   "outputs": [],
   "source": [
    "train = np.array(train_data)\n",
    "y = np.array(y)\n",
    "test = np.array(test_data)"
   ]
  },
  {
   "cell_type": "code",
   "execution_count": 10,
   "metadata": {
    "execution": {
     "iopub.execute_input": "2021-04-10T12:35:48.947670Z",
     "iopub.status.busy": "2021-04-10T12:35:48.947115Z",
     "iopub.status.idle": "2021-04-10T12:35:48.952756Z",
     "shell.execute_reply": "2021-04-10T12:35:48.952336Z"
    },
    "papermill": {
     "duration": 0.024626,
     "end_time": "2021-04-10T12:35:48.952864",
     "exception": false,
     "start_time": "2021-04-10T12:35:48.928238",
     "status": "completed"
    },
    "tags": []
   },
   "outputs": [
    {
     "data": {
      "text/plain": [
       "(42000, 28, 28, 1)"
      ]
     },
     "execution_count": 10,
     "metadata": {},
     "output_type": "execute_result"
    }
   ],
   "source": [
    "train.shape"
   ]
  },
  {
   "cell_type": "code",
   "execution_count": 11,
   "metadata": {
    "execution": {
     "iopub.execute_input": "2021-04-10T12:35:48.988321Z",
     "iopub.status.busy": "2021-04-10T12:35:48.987518Z",
     "iopub.status.idle": "2021-04-10T12:35:49.889039Z",
     "shell.execute_reply": "2021-04-10T12:35:49.889410Z"
    },
    "papermill": {
     "duration": 0.92102,
     "end_time": "2021-04-10T12:35:49.889593",
     "exception": false,
     "start_time": "2021-04-10T12:35:48.968573",
     "status": "completed"
    },
    "tags": []
   },
   "outputs": [
    {
     "name": "stderr",
     "output_type": "stream",
     "text": [
      "/opt/conda/lib/python3.7/site-packages/seaborn/_decorators.py:43: FutureWarning: Pass the following variable as a keyword arg: x. From version 0.12, the only valid positional argument will be `data`, and passing other arguments without an explicit keyword will result in an error or misinterpretation.\n",
      "  FutureWarning\n"
     ]
    },
    {
     "data": {
      "text/plain": [
       "Text(0.5, 1.0, 'digit count')"
      ]
     },
     "execution_count": 11,
     "metadata": {},
     "output_type": "execute_result"
    },
    {
     "data": {
      "image/png": "[encoded data removed]",
      "text/plain": [
       "<Figure size 432x288 with 1 Axes>"
      ]
     },
     "metadata": {
      "needs_background": "light"
     },
     "output_type": "display_data"
    }
   ],
   "source": [
    "import seaborn as sns\n",
    "sns.countplot(y)\n",
    "plt.title('digit count')"
   ]
  },
  {
   "cell_type": "code",
   "execution_count": 12,
   "metadata": {
    "execution": {
     "iopub.execute_input": "2021-04-10T12:35:49.928413Z",
     "iopub.status.busy": "2021-04-10T12:35:49.927809Z",
     "iopub.status.idle": "2021-04-10T12:35:54.431157Z",
     "shell.execute_reply": "2021-04-10T12:35:54.430096Z"
    },
    "papermill": {
     "duration": 4.524169,
     "end_time": "2021-04-10T12:35:54.431298",
     "exception": false,
     "start_time": "2021-04-10T12:35:49.907129",
     "status": "completed"
    },
    "tags": []
   },
   "outputs": [],
   "source": [
    "from keras.utils.np_utils import to_categorical\n",
    "y = to_categorical(y,num_classes=10) # it will do suppose y=4 ---> [0,0,0,0,1,0,0,0,0,0]"
   ]
  },
  {
   "cell_type": "code",
   "execution_count": 13,
   "metadata": {
    "execution": {
     "iopub.execute_input": "2021-04-10T12:35:54.470703Z",
     "iopub.status.busy": "2021-04-10T12:35:54.470067Z",
     "iopub.status.idle": "2021-04-10T12:35:55.003416Z",
     "shell.execute_reply": "2021-04-10T12:35:55.002907Z"
    },
    "papermill": {
     "duration": 0.554715,
     "end_time": "2021-04-10T12:35:55.003542",
     "exception": false,
     "start_time": "2021-04-10T12:35:54.448827",
     "status": "completed"
    },
    "tags": []
   },
   "outputs": [],
   "source": [
    "from sklearn.model_selection import train_test_split\n",
    "x_train, x_val, y_train, y_val = train_test_split(train, y, test_size = 0.2, random_state = 42)\n"
   ]
  },
  {
   "cell_type": "code",
   "execution_count": 14,
   "metadata": {
    "execution": {
     "iopub.execute_input": "2021-04-10T12:35:55.046537Z",
     "iopub.status.busy": "2021-04-10T12:35:55.045682Z",
     "iopub.status.idle": "2021-04-10T12:35:55.112744Z",
     "shell.execute_reply": "2021-04-10T12:35:55.112179Z"
    },
    "papermill": {
     "duration": 0.091724,
     "end_time": "2021-04-10T12:35:55.112885",
     "exception": false,
     "start_time": "2021-04-10T12:35:55.021161",
     "status": "completed"
    },
    "tags": []
   },
   "outputs": [],
   "source": [
    "from keras.preprocessing.image import ImageDataGenerator\n",
    "data_gen = ImageDataGenerator(rescale = 1./255,\n",
    "                              rotation_range=15,\n",
    "                              width_shift_range=0.03,\n",
    "                              height_shift_range=0.03,\n",
    "                              shear_range=0.15,\n",
    "                              fill_mode='nearest')\n",
    "train_generator = data_gen.flow(x_train, y_train, batch_size=64)\n",
    "val_generator = data_gen.flow(x_val, y_val, batch_size=64)"
   ]
  },
  {
   "cell_type": "code",
   "execution_count": 15,
   "metadata": {
    "execution": {
     "iopub.execute_input": "2021-04-10T12:35:55.157840Z",
     "iopub.status.busy": "2021-04-10T12:35:55.157002Z",
     "iopub.status.idle": "2021-04-10T12:35:55.160232Z",
     "shell.execute_reply": "2021-04-10T12:35:55.159747Z"
    },
    "papermill": {
     "duration": 0.027488,
     "end_time": "2021-04-10T12:35:55.160368",
     "exception": false,
     "start_time": "2021-04-10T12:35:55.132880",
     "status": "completed"
    },
    "tags": []
   },
   "outputs": [],
   "source": [
    "from keras import layers, models, optimizers\n",
    "from keras.layers import Dense, Dropout, Flatten, Conv2D, MaxPool2D, BatchNormalization\n",
    "from keras.models import Sequential"
   ]
  },
  {
   "cell_type": "code",
   "execution_count": 16,
   "metadata": {
    "execution": {
     "iopub.execute_input": "2021-04-10T12:35:55.204503Z",
     "iopub.status.busy": "2021-04-10T12:35:55.204004Z",
     "iopub.status.idle": "2021-04-10T12:35:57.978199Z",
     "shell.execute_reply": "2021-04-10T12:35:57.977314Z"
    },
    "papermill": {
     "duration": 2.799063,
     "end_time": "2021-04-10T12:35:57.978333",
     "exception": false,
     "start_time": "2021-04-10T12:35:55.179270",
     "status": "completed"
    },
    "tags": []
   },
   "outputs": [],
   "source": [
    "model = Sequential()\n",
    "model.add(Conv2D(filters = 64, kernel_size = 3, strides=(1,1), padding='Same', activation='relu', input_shape = [28,28,1]))\n",
    "model.add(Conv2D(filters = 64, kernel_size = 3, strides=(2,2), padding='Same', activation='relu'))\n",
    "model.add(MaxPool2D(pool_size = (2,2)))\n",
    "\n",
    "model.add(Conv2D(filters = 128, kernel_size = 3, strides=(1,1), padding='Same', activation='relu'))\n",
    "model.add(Conv2D(filters = 128, kernel_size = 3, strides=(2,2), padding='Same', activation='relu'))\n",
    "model.add(MaxPool2D(pool_size = (2,2)))\n",
    "\n",
    "model.add(Flatten())\n",
    "model.add(Dense(128, activation=\"relu\"))\n",
    "model.add(Dropout(0.5))\n",
    "model.add(Dense(units=128, activation='relu'))\n",
    "model.add(Dropout(0.10))\n",
    "model.add(Dense(10, activation=\"softmax\"))\n"
   ]
  },
  {
   "cell_type": "code",
   "execution_count": 17,
   "metadata": {
    "execution": {
     "iopub.execute_input": "2021-04-10T12:35:58.018330Z",
     "iopub.status.busy": "2021-04-10T12:35:58.017784Z",
     "iopub.status.idle": "2021-04-10T12:35:58.021747Z",
     "shell.execute_reply": "2021-04-10T12:35:58.021233Z"
    },
    "papermill": {
     "duration": 0.025654,
     "end_time": "2021-04-10T12:35:58.021865",
     "exception": false,
     "start_time": "2021-04-10T12:35:57.996211",
     "status": "completed"
    },
    "tags": []
   },
   "outputs": [],
   "source": [
    "optimizer = optimizers.Adam(learning_rate=0.0001)"
   ]
  },
  {
   "cell_type": "code",
   "execution_count": 18,
   "metadata": {
    "execution": {
     "iopub.execute_input": "2021-04-10T12:35:58.066505Z",
     "iopub.status.busy": "2021-04-10T12:35:58.061270Z",
     "iopub.status.idle": "2021-04-10T12:35:58.072034Z",
     "shell.execute_reply": "2021-04-10T12:35:58.071489Z"
    },
    "papermill": {
     "duration": 0.03226,
     "end_time": "2021-04-10T12:35:58.072141",
     "exception": false,
     "start_time": "2021-04-10T12:35:58.039881",
     "status": "completed"
    },
    "tags": []
   },
   "outputs": [],
   "source": [
    "model.compile(loss='categorical_crossentropy', optimizer=optimizer, metrics=['accuracy'])"
   ]
  },
  {
   "cell_type": "code",
   "execution_count": 19,
   "metadata": {
    "execution": {
     "iopub.execute_input": "2021-04-10T12:35:58.112279Z",
     "iopub.status.busy": "2021-04-10T12:35:58.111648Z",
     "iopub.status.idle": "2021-04-10T12:48:21.516450Z",
     "shell.execute_reply": "2021-04-10T12:48:21.515870Z"
    },
    "papermill": {
     "duration": 743.427074,
     "end_time": "2021-04-10T12:48:21.516645",
     "exception": false,
     "start_time": "2021-04-10T12:35:58.089571",
     "status": "completed"
    },
    "tags": []
   },
   "outputs": [
    {
     "name": "stderr",
     "output_type": "stream",
     "text": [
      "/opt/conda/lib/python3.7/site-packages/tensorflow/python/keras/engine/training.py:1844: UserWarning: `Model.fit_generator` is deprecated and will be removed in a future version. Please use `Model.fit`, which supports generators.\n",
      "  warnings.warn('`Model.fit_generator` is deprecated and '\n"
     ]
    },
    {
     "name": "stdout",
     "output_type": "stream",
     "text": [
      "Epoch 1/60\n",
      "525/525 [==============================] - 16s 25ms/step - loss: 1.6388 - accuracy: 0.4347 - val_loss: 0.3684 - val_accuracy: 0.8825\n",
      "Epoch 2/60\n",
      "525/525 [==============================] - 12s 22ms/step - loss: 0.4890 - accuracy: 0.8439 - val_loss: 0.2321 - val_accuracy: 0.9266\n",
      "Epoch 3/60\n",
      "525/525 [==============================] - 12s 22ms/step - loss: 0.3398 - accuracy: 0.8932 - val_loss: 0.1690 - val_accuracy: 0.9474\n",
      "Epoch 4/60\n",
      "525/525 [==============================] - 12s 23ms/step - loss: 0.2434 - accuracy: 0.9259 - val_loss: 0.1257 - val_accuracy: 0.9630\n",
      "Epoch 5/60\n",
      "525/525 [==============================] - 12s 22ms/step - loss: 0.2033 - accuracy: 0.9393 - val_loss: 0.1129 - val_accuracy: 0.9658\n",
      "Epoch 6/60\n",
      "525/525 [==============================] - 12s 23ms/step - loss: 0.1740 - accuracy: 0.9485 - val_loss: 0.0987 - val_accuracy: 0.9713\n",
      "Epoch 7/60\n",
      "525/525 [==============================] - 12s 22ms/step - loss: 0.1520 - accuracy: 0.9558 - val_loss: 0.0868 - val_accuracy: 0.9723\n",
      "Epoch 8/60\n",
      "525/525 [==============================] - 12s 23ms/step - loss: 0.1425 - accuracy: 0.9596 - val_loss: 0.0988 - val_accuracy: 0.9710\n",
      "Epoch 9/60\n",
      "525/525 [==============================] - 12s 23ms/step - loss: 0.1264 - accuracy: 0.9622 - val_loss: 0.0773 - val_accuracy: 0.9750\n",
      "Epoch 10/60\n",
      "525/525 [==============================] - 12s 23ms/step - loss: 0.1141 - accuracy: 0.9684 - val_loss: 0.0841 - val_accuracy: 0.9757\n",
      "Epoch 11/60\n",
      "525/525 [==============================] - 12s 23ms/step - loss: 0.1048 - accuracy: 0.9698 - val_loss: 0.0717 - val_accuracy: 0.9778\n",
      "Epoch 12/60\n",
      "525/525 [==============================] - 12s 22ms/step - loss: 0.0988 - accuracy: 0.9720 - val_loss: 0.0711 - val_accuracy: 0.9779\n",
      "Epoch 13/60\n",
      "525/525 [==============================] - 12s 24ms/step - loss: 0.0906 - accuracy: 0.9739 - val_loss: 0.0617 - val_accuracy: 0.9818\n",
      "Epoch 14/60\n",
      "525/525 [==============================] - 12s 23ms/step - loss: 0.0860 - accuracy: 0.9760 - val_loss: 0.0617 - val_accuracy: 0.9794\n",
      "Epoch 15/60\n",
      "525/525 [==============================] - 12s 22ms/step - loss: 0.0839 - accuracy: 0.9756 - val_loss: 0.0536 - val_accuracy: 0.9835\n",
      "Epoch 16/60\n",
      "525/525 [==============================] - 12s 23ms/step - loss: 0.0829 - accuracy: 0.9767 - val_loss: 0.0539 - val_accuracy: 0.9826\n",
      "Epoch 17/60\n",
      "525/525 [==============================] - 12s 23ms/step - loss: 0.0738 - accuracy: 0.9782 - val_loss: 0.0537 - val_accuracy: 0.9838\n",
      "Epoch 18/60\n",
      "525/525 [==============================] - 13s 24ms/step - loss: 0.0646 - accuracy: 0.9819 - val_loss: 0.0525 - val_accuracy: 0.9831\n",
      "Epoch 19/60\n",
      "525/525 [==============================] - 12s 23ms/step - loss: 0.0651 - accuracy: 0.9804 - val_loss: 0.0515 - val_accuracy: 0.9846\n",
      "Epoch 20/60\n",
      "525/525 [==============================] - 12s 22ms/step - loss: 0.0695 - accuracy: 0.9796 - val_loss: 0.0429 - val_accuracy: 0.9860\n",
      "Epoch 21/60\n",
      "525/525 [==============================] - 12s 24ms/step - loss: 0.0604 - accuracy: 0.9817 - val_loss: 0.0406 - val_accuracy: 0.9865\n",
      "Epoch 22/60\n",
      "525/525 [==============================] - 12s 23ms/step - loss: 0.0608 - accuracy: 0.9822 - val_loss: 0.0438 - val_accuracy: 0.9856\n",
      "Epoch 23/60\n",
      "525/525 [==============================] - 13s 24ms/step - loss: 0.0534 - accuracy: 0.9836 - val_loss: 0.0428 - val_accuracy: 0.9864\n",
      "Epoch 24/60\n",
      "525/525 [==============================] - 12s 22ms/step - loss: 0.0568 - accuracy: 0.9836 - val_loss: 0.0445 - val_accuracy: 0.9864\n",
      "Epoch 25/60\n",
      "525/525 [==============================] - 12s 23ms/step - loss: 0.0544 - accuracy: 0.9831 - val_loss: 0.0424 - val_accuracy: 0.9863\n",
      "Epoch 26/60\n",
      "525/525 [==============================] - 13s 24ms/step - loss: 0.0503 - accuracy: 0.9853 - val_loss: 0.0413 - val_accuracy: 0.9865\n",
      "Epoch 27/60\n",
      "525/525 [==============================] - 12s 24ms/step - loss: 0.0449 - accuracy: 0.9864 - val_loss: 0.0403 - val_accuracy: 0.9876\n",
      "Epoch 28/60\n",
      "525/525 [==============================] - 12s 23ms/step - loss: 0.0434 - accuracy: 0.9868 - val_loss: 0.0330 - val_accuracy: 0.9891\n",
      "Epoch 29/60\n",
      "525/525 [==============================] - 13s 24ms/step - loss: 0.0451 - accuracy: 0.9869 - val_loss: 0.0362 - val_accuracy: 0.9887\n",
      "Epoch 30/60\n",
      "525/525 [==============================] - 12s 23ms/step - loss: 0.0429 - accuracy: 0.9878 - val_loss: 0.0327 - val_accuracy: 0.9894\n",
      "Epoch 31/60\n",
      "525/525 [==============================] - 13s 24ms/step - loss: 0.0425 - accuracy: 0.9872 - val_loss: 0.0373 - val_accuracy: 0.9882\n",
      "Epoch 32/60\n",
      "525/525 [==============================] - 12s 23ms/step - loss: 0.0412 - accuracy: 0.9875 - val_loss: 0.0375 - val_accuracy: 0.9881\n",
      "Epoch 33/60\n",
      "525/525 [==============================] - 12s 23ms/step - loss: 0.0387 - accuracy: 0.9888 - val_loss: 0.0314 - val_accuracy: 0.9902\n",
      "Epoch 34/60\n",
      "525/525 [==============================] - 13s 24ms/step - loss: 0.0370 - accuracy: 0.9896 - val_loss: 0.0338 - val_accuracy: 0.9896\n",
      "Epoch 35/60\n",
      "525/525 [==============================] - 13s 24ms/step - loss: 0.0379 - accuracy: 0.9886 - val_loss: 0.0323 - val_accuracy: 0.9894\n",
      "Epoch 36/60\n",
      "525/525 [==============================] - 12s 22ms/step - loss: 0.0336 - accuracy: 0.9896 - val_loss: 0.0355 - val_accuracy: 0.9880\n",
      "Epoch 37/60\n",
      "525/525 [==============================] - 13s 24ms/step - loss: 0.0344 - accuracy: 0.9903 - val_loss: 0.0292 - val_accuracy: 0.9914\n",
      "Epoch 38/60\n",
      "525/525 [==============================] - 12s 23ms/step - loss: 0.0341 - accuracy: 0.9899 - val_loss: 0.0344 - val_accuracy: 0.9894\n",
      "Epoch 39/60\n",
      "525/525 [==============================] - 13s 25ms/step - loss: 0.0331 - accuracy: 0.9901 - val_loss: 0.0347 - val_accuracy: 0.9902\n",
      "Epoch 40/60\n",
      "525/525 [==============================] - 12s 23ms/step - loss: 0.0339 - accuracy: 0.9902 - val_loss: 0.0287 - val_accuracy: 0.9915\n",
      "Epoch 41/60\n",
      "525/525 [==============================] - 12s 22ms/step - loss: 0.0293 - accuracy: 0.9903 - val_loss: 0.0293 - val_accuracy: 0.9915\n",
      "Epoch 42/60\n",
      "525/525 [==============================] - 13s 25ms/step - loss: 0.0275 - accuracy: 0.9917 - val_loss: 0.0346 - val_accuracy: 0.9896\n",
      "Epoch 43/60\n",
      "525/525 [==============================] - 12s 24ms/step - loss: 0.0285 - accuracy: 0.9912 - val_loss: 0.0294 - val_accuracy: 0.9915\n",
      "Epoch 44/60\n",
      "525/525 [==============================] - 12s 22ms/step - loss: 0.0317 - accuracy: 0.9903 - val_loss: 0.0354 - val_accuracy: 0.9903\n",
      "Epoch 45/60\n",
      "525/525 [==============================] - 14s 26ms/step - loss: 0.0281 - accuracy: 0.9916 - val_loss: 0.0269 - val_accuracy: 0.9912\n",
      "Epoch 46/60\n",
      "525/525 [==============================] - 12s 22ms/step - loss: 0.0241 - accuracy: 0.9924 - val_loss: 0.0339 - val_accuracy: 0.9902\n",
      "Epoch 47/60\n",
      "525/525 [==============================] - 13s 26ms/step - loss: 0.0273 - accuracy: 0.9915 - val_loss: 0.0315 - val_accuracy: 0.9908\n",
      "Epoch 48/60\n",
      "525/525 [==============================] - 12s 23ms/step - loss: 0.0240 - accuracy: 0.9922 - val_loss: 0.0359 - val_accuracy: 0.9902\n",
      "Epoch 49/60\n",
      "525/525 [==============================] - 12s 22ms/step - loss: 0.0234 - accuracy: 0.9927 - val_loss: 0.0284 - val_accuracy: 0.9915\n",
      "Epoch 50/60\n",
      "525/525 [==============================] - 14s 27ms/step - loss: 0.0279 - accuracy: 0.9916 - val_loss: 0.0259 - val_accuracy: 0.9919\n",
      "Epoch 51/60\n",
      "525/525 [==============================] - 12s 23ms/step - loss: 0.0259 - accuracy: 0.9917 - val_loss: 0.0299 - val_accuracy: 0.9912\n",
      "Epoch 52/60\n",
      "525/525 [==============================] - 12s 22ms/step - loss: 0.0234 - accuracy: 0.9933 - val_loss: 0.0318 - val_accuracy: 0.9909\n",
      "Epoch 53/60\n",
      "525/525 [==============================] - 14s 27ms/step - loss: 0.0205 - accuracy: 0.9936 - val_loss: 0.0333 - val_accuracy: 0.9906\n",
      "Epoch 54/60\n",
      "525/525 [==============================] - 12s 23ms/step - loss: 0.0209 - accuracy: 0.9933 - val_loss: 0.0306 - val_accuracy: 0.9914\n",
      "Epoch 55/60\n",
      "525/525 [==============================] - 12s 22ms/step - loss: 0.0218 - accuracy: 0.9938 - val_loss: 0.0292 - val_accuracy: 0.9912\n",
      "Epoch 56/60\n",
      "525/525 [==============================] - 14s 27ms/step - loss: 0.0219 - accuracy: 0.9937 - val_loss: 0.0300 - val_accuracy: 0.9903\n",
      "Epoch 57/60\n",
      "525/525 [==============================] - 12s 23ms/step - loss: 0.0197 - accuracy: 0.9943 - val_loss: 0.0279 - val_accuracy: 0.9919\n",
      "Epoch 58/60\n",
      "525/525 [==============================] - 14s 26ms/step - loss: 0.0207 - accuracy: 0.9939 - val_loss: 0.0353 - val_accuracy: 0.9906\n",
      "Epoch 59/60\n",
      "525/525 [==============================] - 12s 23ms/step - loss: 0.0187 - accuracy: 0.9937 - val_loss: 0.0260 - val_accuracy: 0.9924\n",
      "Epoch 60/60\n",
      "525/525 [==============================] - 12s 22ms/step - loss: 0.0137 - accuracy: 0.9956 - val_loss: 0.0277 - val_accuracy: 0.9925\n"
     ]
    }
   ],
   "source": [
    "batch_size=64\n",
    "import keras\n",
    "es_callback = keras.callbacks.EarlyStopping(monitor ='val_accuracy', patience = 10, mode = 'max', restore_best_weights = True)\n",
    "reducelr_callback = keras.callbacks.ReduceLROnPlateau(monitor='val_loss', factor=0.2, patience=8, min_lr=0.00000001)\n",
    "\n",
    "history = model.fit_generator(train_generator, \n",
    "                             steps_per_epoch = len(x_train)//batch_size,\n",
    "                             epochs=60,\n",
    "                             validation_data = val_generator,\n",
    "                             validation_steps = len(x_val)//batch_size,\n",
    "                             callbacks = [es_callback, reducelr_callback])\n"
   ]
  },
  {
   "cell_type": "code",
   "execution_count": 20,
   "metadata": {
    "execution": {
     "iopub.execute_input": "2021-04-10T12:48:27.857358Z",
     "iopub.status.busy": "2021-04-10T12:48:27.856506Z",
     "iopub.status.idle": "2021-04-10T12:48:28.129890Z",
     "shell.execute_reply": "2021-04-10T12:48:28.130306Z"
    },
    "papermill": {
     "duration": 3.321303,
     "end_time": "2021-04-10T12:48:28.130451",
     "exception": false,
     "start_time": "2021-04-10T12:48:24.809148",
     "status": "completed"
    },
    "tags": []
   },
   "outputs": [
    {
     "data": {
      "image/png": "[encoded data removed]",
      "text/plain": [
       "<Figure size 432x288 with 1 Axes>"
      ]
     },
     "metadata": {
      "needs_background": "light"
     },
     "output_type": "display_data"
    },
    {
     "data": {
      "image/png": "[encoded data removed]",
      "text/plain": [
       "<Figure size 432x288 with 1 Axes>"
      ]
     },
     "metadata": {
      "needs_background": "light"
     },
     "output_type": "display_data"
    }
   ],
   "source": [
    "acc = history.history['accuracy']\n",
    "val_acc = history.history['val_accuracy']\n",
    "loss = history.history['loss']\n",
    "val_loss = history.history['val_loss']\n",
    "\n",
    "ep = range(1,len(acc) + 1)\n",
    "\n",
    "#Train and Validation accuracy\n",
    "plt.plot(ep, acc, 'b', label='Training Accuracy')\n",
    "plt.plot(ep, val_acc, 'r', label='Validation Accuracy')\n",
    "plt.title('Training and Validation Accuracy')\n",
    "plt.legend()\n",
    "\n",
    "plt.figure()\n",
    "\n",
    "#Train and Validation loss\n",
    "plt.plot(ep, loss, 'b', label='Training Loss')\n",
    "plt.plot(ep, val_loss, 'r', label='Validation Loss')\n",
    "plt.title('Training and Validation Loss')\n",
    "plt.legend()\n",
    "\n",
    "plt.show()"
   ]
  },
  {
   "cell_type": "code",
   "execution_count": 21,
   "metadata": {
    "execution": {
     "iopub.execute_input": "2021-04-10T12:48:33.760321Z",
     "iopub.status.busy": "2021-04-10T12:48:33.759260Z",
     "iopub.status.idle": "2021-04-10T12:48:34.954617Z",
     "shell.execute_reply": "2021-04-10T12:48:34.953889Z"
    },
    "papermill": {
     "duration": 3.985416,
     "end_time": "2021-04-10T12:48:34.954752",
     "exception": false,
     "start_time": "2021-04-10T12:48:30.969336",
     "status": "completed"
    },
    "tags": []
   },
   "outputs": [
    {
     "name": "stdout",
     "output_type": "stream",
     "text": [
      "Prediction Shape is (28000, 10)\n"
     ]
    }
   ],
   "source": [
    "y_result = model.predict(test)\n",
    "print('Prediction Shape is {}'.format(y_result.shape))"
   ]
  },
  {
   "cell_type": "code",
   "execution_count": 22,
   "metadata": {
    "execution": {
     "iopub.execute_input": "2021-04-10T12:48:40.862218Z",
     "iopub.status.busy": "2021-04-10T12:48:40.860905Z",
     "iopub.status.idle": "2021-04-10T12:48:40.865181Z",
     "shell.execute_reply": "2021-04-10T12:48:40.864687Z"
    },
    "papermill": {
     "duration": 2.804078,
     "end_time": "2021-04-10T12:48:40.865294",
     "exception": false,
     "start_time": "2021-04-10T12:48:38.061216",
     "status": "completed"
    },
    "tags": []
   },
   "outputs": [],
   "source": [
    "results = np.argmax(y_result, axis=1)\n",
    "results = pd.Series(results,name=\"Label\")"
   ]
  },
  {
   "cell_type": "code",
   "execution_count": 23,
   "metadata": {
    "execution": {
     "iopub.execute_input": "2021-04-10T12:48:46.496181Z",
     "iopub.status.busy": "2021-04-10T12:48:46.495256Z",
     "iopub.status.idle": "2021-04-10T12:48:46.651715Z",
     "shell.execute_reply": "2021-04-10T12:48:46.651191Z"
    },
    "papermill": {
     "duration": 2.960879,
     "end_time": "2021-04-10T12:48:46.651852",
     "exception": false,
     "start_time": "2021-04-10T12:48:43.690973",
     "status": "completed"
    },
    "tags": []
   },
   "outputs": [],
   "source": [
    "My_submission = pd.concat([pd.Series(range(1,28001),name = \"ImageId\"),results],axis = 1)\n",
    "\n",
    "My_submission.to_csv(\"submission.csv\",index=False)"
   ]
  },
  {
   "cell_type": "code",
   "execution_count": null,
   "metadata": {
    "papermill": {
     "duration": 2.797771,
     "end_time": "2021-04-10T12:48:52.587462",
     "exception": false,
     "start_time": "2021-04-10T12:48:49.789691",
     "status": "completed"
    },
    "tags": []
   },
   "outputs": [],
   "source": []
  }
 ],
 "metadata": {
  "kernelspec": {
   "display_name": "Python 3",
   "language": "python",
   "name": "python3"
  },
  "language_info": {
   "codemirror_mode": {
    "name": "ipython",
    "version": 3
   },
   "file_extension": ".py",
   "mimetype": "text/x-python",
   "name": "python",
   "nbconvert_exporter": "python",
   "pygments_lexer": "ipython3",
   "version": "3.7.9"
  },
  "papermill": {
   "default_parameters": {},
   "duration": 800.708837,
   "end_time": "2021-04-10T12:48:58.518566",
   "environment_variables": {},
   "exception": null,
   "input_path": "__notebook__.ipynb",
   "output_path": "__notebook__.ipynb",
   "parameters": {},
   "start_time": "2021-04-10T12:35:37.809729",
   "version": "2.2.2"
  }
 },
 "nbformat": 4,
 "nbformat_minor": 4
}
